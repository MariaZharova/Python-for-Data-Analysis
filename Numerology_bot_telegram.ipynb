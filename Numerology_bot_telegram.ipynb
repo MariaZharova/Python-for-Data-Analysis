{
 "cells": [
  {
   "cell_type": "code",
   "execution_count": null,
   "metadata": {},
   "outputs": [],
   "source": [
    "import telebot\n",
    "import pandas as pd\n",
    "import numpy as np\n",
    "import matplotlib.pyplot as plt\n",
    "from PIL import Image\n",
    "from tabulate import tabulate"
   ]
  },
  {
   "cell_type": "code",
   "execution_count": null,
   "metadata": {},
   "outputs": [],
   "source": [
    "def matrix_new(Date):\n",
    "    # checking the input data\n",
    "    if (len(Date) != 8):\n",
    "        return \"Invalid data format:(\"\n",
    "    dd = int(Date[0:2])\n",
    "    mm = int(Date[2:4])\n",
    "    gggg = int(Date[4:])\n",
    "    if (dd > 31 or dd < 1 or mm > 12 or mm < 1 or gggg < 1):\n",
    "        return \"Invalid data format:(\"\n",
    "    if (gggg > 2101 or gggg < 1900):\n",
    "        return \"I can't calculate the matrix for such years:(\"\n",
    "    \n",
    "    # data processing\n",
    "    numbers_list = []\n",
    "    for i in range(8):\n",
    "        numbers_list.append(int(Date[i]))\n",
    "    S = sum(numbers_list)\n",
    "    numbers_list.append(S // 10)\n",
    "    numbers_list.append(S % 10)\n",
    "    if S > 9:\n",
    "        numbers_list.append((numbers_list[8] + numbers_list[9]) // 10)\n",
    "        numbers_list.append((numbers_list[8] + numbers_list[9]) % 10)\n",
    "    else:\n",
    "        numbers_list.append(0)\n",
    "        numbers_list.append(0)\n",
    "    if gggg > 1999:\n",
    "        numbers_list.append(1)\n",
    "        numbers_list.append(9)\n",
    "        K = S + 19\n",
    "        numbers_list.append(K // 10)\n",
    "        numbers_list.append(K % 10)\n",
    "        numbers_list.append((numbers_list[14] + numbers_list[15]) % 10)\n",
    "        numbers_list.append((numbers_list[14] + numbers_list[15]) // 10)\n",
    "    else:\n",
    "        numbers_list.append(2)\n",
    "        K = S - 2\n",
    "        numbers_list.append(K // 10)\n",
    "        numbers_list.append(K % 10)\n",
    "        numbers_list.append((numbers_list[13] + numbers_list[14]) % 10)\n",
    "        numbers_list.append((numbers_list[13] + numbers_list[14]) // 10)\n",
    "    \n",
    "    # make a matrix\n",
    "    M = np.zeros((9), dtype='int')\n",
    "    for i in range(len(numbers_list)):\n",
    "        if numbers_list[i] == 0:\n",
    "            continue\n",
    "        M[numbers_list[i]-1] = M[numbers_list[i]-1]*10 + numbers_list[i]\n",
    "    \n",
    "    #table = tabulate(M.reshape(3, 3).T, tablefmt=\"fancy_grid\") or pipe or grid\n",
    "    table = tabulate(M.reshape(3, 3).T)\n",
    "    #print(table)\n",
    "    return table\n",
    "\n",
    "#df = pd.DataFrame(matrix_new('30012001'))\n",
    "#df.reset_index(drop=True)"
   ]
  },
  {
   "cell_type": "code",
   "execution_count": null,
   "metadata": {},
   "outputs": [],
   "source": [
    "bot1 = telebot.TeleBot('place-for-token-^^')\n",
    "\n",
    "@bot1.message_handler(commands=['start'])\n",
    "def start_message(message):\n",
    "    bot1.send_message(message.from_user.id, 'Привет! Мы тут считаем нумерологические матрицы:) Введи дату рождения в формате ДДММГГГГ без пробелов и символов');\n",
    "\n",
    "@bot1.message_handler(content_types=['text'])\n",
    "def get_text_messages(message):\n",
    "    global Date\n",
    "    Date = message.text\n",
    "    bot1.send_message(message.from_user.id, matrix_new(Date));\n",
    "\n",
    "bot1.polling(none_stop=True, interval=0)"
   ]
  },
  {
   "cell_type": "code",
   "execution_count": 7,
   "metadata": {},
   "outputs": [
    {
     "name": "stdout",
     "output_type": "stream",
     "text": [
      "---  -  -\n",
      "111  0  7\n",
      " 22  0  8\n",
      "  3  6  9\n",
      "---  -  -\n"
     ]
    }
   ],
   "source": [
    "print(matrix_new('30012001'))"
   ]
  },
  {
   "cell_type": "code",
   "execution_count": null,
   "metadata": {},
   "outputs": [],
   "source": []
  }
 ],
 "metadata": {
  "kernelspec": {
   "display_name": "Python 3",
   "language": "python",
   "name": "python3"
  },
  "language_info": {
   "codemirror_mode": {
    "name": "ipython",
    "version": 3
   },
   "file_extension": ".py",
   "mimetype": "text/x-python",
   "name": "python",
   "nbconvert_exporter": "python",
   "pygments_lexer": "ipython3",
   "version": "3.8.5"
  }
 },
 "nbformat": 4,
 "nbformat_minor": 2
}
