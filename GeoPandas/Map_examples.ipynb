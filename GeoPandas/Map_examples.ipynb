{
 "cells": [
  {
   "cell_type": "markdown",
   "metadata": {},
   "source": [
    "<center>\n",
    "<img src=\"./pict/geopandas.png\">\n",
    "<br />\n",
    "<br />"
   ]
  },
  {
   "cell_type": "code",
   "execution_count": 23,
   "metadata": {},
   "outputs": [],
   "source": [
    "import shapely #работа с полигонами, точками и другими форматами представления геоданных\n",
    "import geopandas as gpd\n",
    "\n",
    "import pandas as pd\n",
    "import matplotlib.pyplot as plt\n",
    "%matplotlib inline"
   ]
  },
  {
   "cell_type": "code",
   "execution_count": 24,
   "metadata": {},
   "outputs": [],
   "source": [
    "#!pip install geopandas # установка geopandas, или так: !conda install --channel conda-forge geopandas"
   ]
  },
  {
   "cell_type": "code",
   "execution_count": 25,
   "metadata": {},
   "outputs": [],
   "source": [
    "from shapely.geometry import Polygon, Point, LineString #основные структуры данных -- \n",
    "#точка, полигон (объед точек, площадь внутри него), линия - объед точек/границ\n",
    "\n",
    "p1 = Polygon([(0, 0), (1, 0), (1, 1)]) # Polygons / Multi-Polygons -- несколько полигонов; указываются крайние точки (треугольник)\n",
    "p2 = Polygon([(0, 0), (1, 0), (1, 1), (0, 1)])#квадрат\n",
    "p3 = Polygon([(2, 0), (3, 0), (3, 1), (2, 1)])#квадрат\n",
    "p4 = Point(0.5, 0.5) # Points / Multi-Points -- точка, указ координаты\n",
    "p5 = Point(2.5, 0.5)\n",
    "p6 = LineString([[1, 1], [2, 0]]) # Lines / Multi-Lines -- указ точки, через которые проходит линия\n",
    "p7 = LineString([[2, 1], [1, 0]])\n",
    "\n",
    "gs = gpd.GeoSeries([p2, p1, p3, p4, p5, p6, p7]) # GeoSeries -- совокупность объектов (геосериес, как сериес в пандас)"
   ]
  },
  {
   "cell_type": "code",
   "execution_count": 26,
   "metadata": {},
   "outputs": [
    {
     "data": {
      "text/plain": [
       "<matplotlib.axes._subplots.AxesSubplot at 0x2893b3f4e88>"
      ]
     },
     "execution_count": 26,
     "metadata": {},
     "output_type": "execute_result"
    },
    {
     "data": {
      "image/png": "[encoded data removed]",
      "text/plain": [
       "<Figure size 432x288 with 1 Axes>"
      ]
     },
     "metadata": {
      "needs_background": "light"
     },
     "output_type": "display_data"
    }
   ],
   "source": [
    "gs #объединение, индексация\n",
    "gs.geometry #индексированное множество геообъектов (отдельный столбец в датафрейм)\n",
    "gs.plot()"
   ]
  },
  {
   "cell_type": "code",
   "execution_count": 27,
   "metadata": {},
   "outputs": [
    {
     "data": {
      "image/png": "[encoded data removed]",
      "text/plain": [
       "<Figure size 1440x720 with 1 Axes>"
      ]
     },
     "metadata": {
      "needs_background": "light"
     },
     "output_type": "display_data"
    }
   ],
   "source": [
    "fig = plt.figure(figsize=(20, 10))\n",
    "ax = plt.gca()\n",
    "#нарисуем тоже самое более контрастно:\n",
    "gs[:1].plot(ax=ax, facecolor='#aebfb4', edgecolor='black') #треугольник; edgecolor - цвет границы, fаcecolor - заливка\n",
    "gs[1:2].plot(ax=ax, facecolor='#62b57f', edgecolor='black') #квадрат\n",
    "gs[2:3].plot(ax=ax, facecolor='#848c87', edgecolor='black') #другой квадрат\n",
    "gs[3:5].plot(ax=ax, facecolor='red', markersize=100)#две точки\n",
    "gs[5:].plot(ax=ax, color='blue', linewidth=3)#две линии\n",
    "\n",
    "for tick in ax.xaxis.get_major_ticks(): #увеличиваем размер делений\n",
    "    tick.label.set_fontsize(15) \n",
    "for tick in ax.yaxis.get_major_ticks():\n",
    "    tick.label.set_fontsize(15) "
   ]
  },
  {
   "cell_type": "code",
   "execution_count": 28,
   "metadata": {},
   "outputs": [
    {
     "data": {
      "text/plain": [
       "0    1.0\n",
       "1    0.5\n",
       "2    1.0\n",
       "3    0.0\n",
       "4    0.0\n",
       "5    0.0\n",
       "6    0.0\n",
       "dtype: float64"
      ]
     },
     "execution_count": 28,
     "metadata": {},
     "output_type": "execute_result"
    }
   ],
   "source": [
    "gs.area # площади фигур, тип - пандас сериес, выдаёт площадь фигуры, заключённой по данному индексу\n",
    "#вывод: квадрат, треуг, квадрат, точки и линии"
   ]
  },
  {
   "cell_type": "code",
   "execution_count": 29,
   "metadata": {},
   "outputs": [
    {
     "data": {
      "text/html": [
       "<div>\n",
       "<style scoped>\n",
       "    .dataframe tbody tr th:only-of-type {\n",
       "        vertical-align: middle;\n",
       "    }\n",
       "\n",
       "    .dataframe tbody tr th {\n",
       "        vertical-align: top;\n",
       "    }\n",
       "\n",
       "    .dataframe thead th {\n",
       "        text-align: right;\n",
       "    }\n",
       "</style>\n",
       "<table border=\"1\" class=\"dataframe\">\n",
       "  <thead>\n",
       "    <tr style=\"text-align: right;\">\n",
       "      <th></th>\n",
       "      <th>minx</th>\n",
       "      <th>miny</th>\n",
       "      <th>maxx</th>\n",
       "      <th>maxy</th>\n",
       "    </tr>\n",
       "  </thead>\n",
       "  <tbody>\n",
       "    <tr>\n",
       "      <td>0</td>\n",
       "      <td>0.0</td>\n",
       "      <td>0.0</td>\n",
       "      <td>1.0</td>\n",
       "      <td>1.0</td>\n",
       "    </tr>\n",
       "    <tr>\n",
       "      <td>1</td>\n",
       "      <td>0.0</td>\n",
       "      <td>0.0</td>\n",
       "      <td>1.0</td>\n",
       "      <td>1.0</td>\n",
       "    </tr>\n",
       "    <tr>\n",
       "      <td>2</td>\n",
       "      <td>2.0</td>\n",
       "      <td>0.0</td>\n",
       "      <td>3.0</td>\n",
       "      <td>1.0</td>\n",
       "    </tr>\n",
       "    <tr>\n",
       "      <td>3</td>\n",
       "      <td>0.5</td>\n",
       "      <td>0.5</td>\n",
       "      <td>0.5</td>\n",
       "      <td>0.5</td>\n",
       "    </tr>\n",
       "    <tr>\n",
       "      <td>4</td>\n",
       "      <td>2.5</td>\n",
       "      <td>0.5</td>\n",
       "      <td>2.5</td>\n",
       "      <td>0.5</td>\n",
       "    </tr>\n",
       "    <tr>\n",
       "      <td>5</td>\n",
       "      <td>1.0</td>\n",
       "      <td>0.0</td>\n",
       "      <td>2.0</td>\n",
       "      <td>1.0</td>\n",
       "    </tr>\n",
       "    <tr>\n",
       "      <td>6</td>\n",
       "      <td>1.0</td>\n",
       "      <td>0.0</td>\n",
       "      <td>2.0</td>\n",
       "      <td>1.0</td>\n",
       "    </tr>\n",
       "  </tbody>\n",
       "</table>\n",
       "</div>"
      ],
      "text/plain": [
       "   minx  miny  maxx  maxy\n",
       "0   0.0   0.0   1.0   1.0\n",
       "1   0.0   0.0   1.0   1.0\n",
       "2   2.0   0.0   3.0   1.0\n",
       "3   0.5   0.5   0.5   0.5\n",
       "4   2.5   0.5   2.5   0.5\n",
       "5   1.0   0.0   2.0   1.0\n",
       "6   1.0   0.0   2.0   1.0"
      ]
     },
     "execution_count": 29,
     "metadata": {},
     "output_type": "execute_result"
    }
   ],
   "source": [
    "gs.bounds # вывод максимума и минимума координат для каждой оси каждой фигуры\n",
    "#тут может быть любой сложный полигон"
   ]
  },
  {
   "cell_type": "code",
   "execution_count": 30,
   "metadata": {},
   "outputs": [
    {
     "data": {
      "text/plain": [
       "array([0., 0., 3., 1.])"
      ]
     },
     "execution_count": 30,
     "metadata": {},
     "output_type": "execute_result"
    }
   ],
   "source": [
    "gs.total_bounds  # то же самое только для всей GeoSeries;\n",
    "#границы для всей сериес"
   ]
  },
  {
   "cell_type": "code",
   "execution_count": 31,
   "metadata": {},
   "outputs": [
    {
     "data": {
      "text/plain": [
       "0    LINESTRING (0.000 0.000, 1.000 0.000, 1.000 1....\n",
       "1    LINESTRING (0.000 0.000, 1.000 0.000, 1.000 1....\n",
       "2    LINESTRING (2.000 0.000, 3.000 0.000, 3.000 1....\n",
       "3                             GEOMETRYCOLLECTION EMPTY\n",
       "4                             GEOMETRYCOLLECTION EMPTY\n",
       "5                MULTIPOINT (1.000 1.000, 2.000 0.000)\n",
       "6                MULTIPOINT (2.000 1.000, 1.000 0.000)\n",
       "dtype: geometry"
      ]
     },
     "execution_count": 31,
     "metadata": {},
     "output_type": "execute_result"
    }
   ],
   "source": [
    "gs.boundary # границы фигур (низкоразмерное представление), для точки границ нет\n",
    "#для каждой фигуры возвращает фигуру границы. Вывод: 3 линии для кв и треуг, для точек нет, для линии две точки границ"
   ]
  },
  {
   "cell_type": "code",
   "execution_count": 32,
   "metadata": {},
   "outputs": [
    {
     "data": {
      "text/plain": [
       "0    POINT (0.50000 0.50000)\n",
       "1    POINT (0.66667 0.33333)\n",
       "2    POINT (2.50000 0.50000)\n",
       "3    POINT (0.50000 0.50000)\n",
       "4    POINT (2.50000 0.50000)\n",
       "5    POINT (1.50000 0.50000)\n",
       "6    POINT (1.50000 0.50000)\n",
       "dtype: geometry"
      ]
     },
     "execution_count": 32,
     "metadata": {},
     "output_type": "execute_result"
    }
   ],
   "source": [
    "gs.centroid # центроиды фигур -- точка которая будет в геометрическом центра фигуры"
   ]
  },
  {
   "cell_type": "code",
   "execution_count": 33,
   "metadata": {},
   "outputs": [
    {
     "data": {
      "text/plain": [
       "0    POINT (0.50000 0.50000)\n",
       "1    POINT (0.75000 0.50000)\n",
       "2    POINT (2.50000 0.50000)\n",
       "3    POINT (0.50000 0.50000)\n",
       "4    POINT (2.50000 0.50000)\n",
       "5    POINT (1.00000 1.00000)\n",
       "6    POINT (2.00000 1.00000)\n",
       "dtype: geometry"
      ]
     },
     "execution_count": 33,
     "metadata": {},
     "output_type": "execute_result"
    }
   ],
   "source": [
    "gs.representative_point() # точки, которые гарантировано находятся внутри фигуры (необязательно центроиды)"
   ]
  },
  {
   "cell_type": "code",
   "execution_count": 34,
   "metadata": {},
   "outputs": [
    {
     "data": {
      "image/png": "[encoded data removed]",
      "text/plain": [
       "<Figure size 1440x720 with 1 Axes>"
      ]
     },
     "metadata": {
      "needs_background": "light"
     },
     "output_type": "display_data"
    }
   ],
   "source": [
    "#нарисуем то, что получилось\n",
    "fig = plt.figure(figsize=(20, 10))\n",
    "ax = plt.gca()\n",
    "\n",
    "gs.boundary.plot(ax=ax, color='red')#границы фигур\n",
    "gs.centroid.plot(ax=ax, color='blue')#центроиды\n",
    "gs.representative_point().plot(ax=ax, color='green')#точки, что гарантированно внутри фигуры (перезатёрли кое-где синие)\n",
    "\n",
    "for tick in ax.xaxis.get_major_ticks():\n",
    "    tick.label.set_fontsize(15) \n",
    "for tick in ax.yaxis.get_major_ticks():\n",
    "    tick.label.set_fontsize(15) "
   ]
  },
  {
   "cell_type": "code",
   "execution_count": 35,
   "metadata": {},
   "outputs": [
    {
     "data": {
      "text/plain": [
       "0    POLYGON ((0.00000 0.00000, 0.00000 1.00000, 1....\n",
       "1    POLYGON ((0.00000 0.00000, 1.00000 1.00000, 1....\n",
       "2    POLYGON ((2.00000 0.00000, 2.00000 1.00000, 3....\n",
       "3                              POINT (0.50000 0.50000)\n",
       "4                              POINT (2.50000 0.50000)\n",
       "5        LINESTRING (1.00000 1.00000, 2.00000 0.00000)\n",
       "6        LINESTRING (2.00000 1.00000, 1.00000 0.00000)\n",
       "dtype: geometry"
      ]
     },
     "execution_count": 35,
     "metadata": {},
     "output_type": "execute_result"
    }
   ],
   "source": [
    "gs.convex_hull # возвращает минимальную выпуклую фигуру, содержающую изначальную. Для двух точек - линия, \n",
    "                # для точки - точка"
   ]
  },
  {
   "cell_type": "code",
   "execution_count": 36,
   "metadata": {},
   "outputs": [
    {
     "data": {
      "text/plain": [
       "0    POLYGON ((0.00000 0.00000, 1.00000 0.00000, 1....\n",
       "1    POLYGON ((0.00000 0.00000, 1.00000 0.00000, 1....\n",
       "2    POLYGON ((2.00000 0.00000, 3.00000 0.00000, 3....\n",
       "3                              POINT (0.50000 0.50000)\n",
       "4                              POINT (2.50000 0.50000)\n",
       "5    POLYGON ((1.00000 0.00000, 2.00000 0.00000, 2....\n",
       "6    POLYGON ((1.00000 0.00000, 2.00000 0.00000, 2....\n",
       "dtype: geometry"
      ]
     },
     "execution_count": 36,
     "metadata": {},
     "output_type": "execute_result"
    }
   ],
   "source": [
    "gs.envelope #вощвращает для каждой фигуры минимальный прямоугольный полигон (стороны параллельны осям), \n",
    "#содержащий каждую из исходных фигур"
   ]
  },
  {
   "cell_type": "code",
   "execution_count": 37,
   "metadata": {},
   "outputs": [
    {
     "data": {
      "text/plain": [
       "0    POLYGON ((-0.10000 0.00000, -0.10000 1.00000, ...\n",
       "1    POLYGON ((-0.07071 0.07071, 0.92929 1.07071, 0...\n",
       "2    POLYGON ((1.90000 0.00000, 1.90000 1.00000, 1....\n",
       "3    POLYGON ((0.60000 0.50000, 0.59952 0.49020, 0....\n",
       "4    POLYGON ((2.60000 0.50000, 2.59952 0.49020, 2....\n",
       "5    POLYGON ((2.07071 0.07071, 2.07730 0.06344, 2....\n",
       "6    POLYGON ((1.07071 -0.07071, 1.06344 -0.07730, ...\n",
       "dtype: geometry"
      ]
     },
     "execution_count": 37,
     "metadata": {},
     "output_type": "execute_result"
    }
   ],
   "source": [
    "gs.buffer(0.1) # возвращает все точки находящиеся на заданном расстоянии r от фигуры; именно геометрически (на картах без масштаба)"
   ]
  },
  {
   "cell_type": "code",
   "execution_count": 38,
   "metadata": {},
   "outputs": [
    {
     "data": {
      "text/plain": [
       "0    POLYGON ((0.00000 0.00000, 1.00000 0.00000, 1....\n",
       "1    POLYGON ((0.00000 0.00000, 1.00000 0.00000, 1....\n",
       "2    POLYGON ((2.00000 0.00000, 3.00000 0.00000, 3....\n",
       "3                              POINT (0.50000 0.50000)\n",
       "4                              POINT (2.50000 0.50000)\n",
       "5        LINESTRING (1.00000 1.00000, 2.00000 0.00000)\n",
       "6        LINESTRING (2.00000 1.00000, 1.00000 0.00000)\n",
       "dtype: geometry"
      ]
     },
     "execution_count": 38,
     "metadata": {},
     "output_type": "execute_result"
    }
   ],
   "source": [
    "gs.simplify(tolerance=0.05) # возвращает упрощенное представление фигуры -- полигон мб мложным, разбивает полигон на прямоугольники и приближает к чему-либо"
   ]
  },
  {
   "cell_type": "code",
   "execution_count": 39,
   "metadata": {},
   "outputs": [
    {
     "data": {
      "image/svg+xml": [
       "<svg xmlns=\"http://www.w3.org/2000/svg\" xmlns:xlink=\"http://www.w3.org/1999/xlink\" width=\"100.0\" height=\"100.0\" viewBox=\"-0.12 -0.12 3.24 1.2400000000000002\" preserveAspectRatio=\"xMinYMin meet\"><g transform=\"matrix(1,0,0,-1,0,1.0)\"><g><polyline fill=\"none\" stroke=\"#66cc99\" stroke-width=\"0.06480000000000001\" points=\"1.0,1.0 1.5,0.5\" opacity=\"0.8\" /><polyline fill=\"none\" stroke=\"#66cc99\" stroke-width=\"0.06480000000000001\" points=\"1.5,0.5 2.0,0.0\" opacity=\"0.8\" /><polyline fill=\"none\" stroke=\"#66cc99\" stroke-width=\"0.06480000000000001\" points=\"2.0,1.0 1.5,0.5\" opacity=\"0.8\" /><polyline fill=\"none\" stroke=\"#66cc99\" stroke-width=\"0.06480000000000001\" points=\"1.5,0.5 1.0,0.0\" opacity=\"0.8\" /><path fill-rule=\"evenodd\" fill=\"#66cc99\" stroke=\"#555555\" stroke-width=\"0.06480000000000001\" opacity=\"0.6\" d=\"M 2.0,1.0 L 3.0,1.0 L 3.0,0.0 L 2.0,0.0 L 2.0,1.0 z\" /><path fill-rule=\"evenodd\" fill=\"#66cc99\" stroke=\"#555555\" stroke-width=\"0.06480000000000001\" opacity=\"0.6\" d=\"M 1.0,0.0 L 0.0,0.0 L 0.0,1.0 L 1.0,1.0 L 1.0,0.0 z\" /></g></g></svg>"
      ],
      "text/plain": [
       "<shapely.geometry.collection.GeometryCollection at 0x2893ba877c8>"
      ]
     },
     "execution_count": 39,
     "metadata": {},
     "output_type": "execute_result"
    }
   ],
   "source": [
    "gs.unary_union # объединение всехиндексированных фигур в GeoSeries"
   ]
  },
  {
   "cell_type": "code",
   "execution_count": 40,
   "metadata": {},
   "outputs": [
    {
     "data": {
      "text/plain": [
       "shapely.geometry.collection.GeometryCollection"
      ]
     },
     "execution_count": 40,
     "metadata": {},
     "output_type": "execute_result"
    }
   ],
   "source": [
    "type(gs.unary_union) # GeometryCollection -- полигоны, точки, линии (геообъект, содержащий все эти объекты)"
   ]
  },
  {
   "cell_type": "code",
   "execution_count": 41,
   "metadata": {},
   "outputs": [
    {
     "data": {
      "text/plain": [
       "<matplotlib.axes._subplots.AxesSubplot at 0x2893b868488>"
      ]
     },
     "execution_count": 41,
     "metadata": {},
     "output_type": "execute_result"
    },
    {
     "data": {
      "image/png": "[encoded data removed]",
      "text/plain": [
       "<Figure size 432x288 with 1 Axes>"
      ]
     },
     "metadata": {
      "needs_background": "light"
     },
     "output_type": "display_data"
    }
   ],
   "source": [
    "gs[:1].buffer(0.5).plot() #геометрическое округление квадрата"
   ]
  },
  {
   "cell_type": "code",
   "execution_count": 42,
   "metadata": {},
   "outputs": [
    {
     "data": {
      "image/png": "[encoded data removed]",
      "text/plain": [
       "<Figure size 1440x720 with 1 Axes>"
      ]
     },
     "metadata": {
      "needs_background": "light"
     },
     "output_type": "display_data"
    }
   ],
   "source": [
    "fig = plt.figure(figsize=(20, 10))\n",
    "ax = plt.gca()\n",
    "\n",
    "gs[:1].buffer(0.1).plot(ax=ax, facecolor='#aebfb4', edgecolor='black')#левый округлённый квадрат\n",
    "gs[1:2].plot(ax=ax, facecolor='#12b57f', edgecolor='black')#поверх него треугольник\n",
    "gs[2:3].plot(ax=ax, facecolor='#948c87', edgecolor='black')#правый квадрат\n",
    "\n",
    "gs[3:5].buffer(0.1).plot(ax=ax, facecolor='white', markersize=100)#окружность вокруг точки\n",
    "gs[3:4].buffer(0.1).simplify(tolerance=0.01).plot(ax=ax, color='blue', alpha=0.5)#упрощаем баффер (в многогранник)\n",
    "gs[4:5].buffer(0.1).simplify(tolerance=0.1).plot(ax=ax, color='blue', alpha=0.5)#--\"-- в ромб\n",
    "gs[3:5].plot(ax=ax, facecolor='red', markersize=100)\n",
    "\n",
    "gs[5:].envelope.plot(ax=ax, color='blue', linewidth=3)#минимальный полигон для двух линий - квадрат\n",
    "gs[5:].plot(ax=ax, color='black', linewidth=3)\n",
    "\n",
    "for tick in ax.xaxis.get_major_ticks():\n",
    "    tick.label.set_fontsize(15) \n",
    "for tick in ax.yaxis.get_major_ticks():\n",
    "    tick.label.set_fontsize(15) "
   ]
  },
  {
   "cell_type": "code",
   "execution_count": 43,
   "metadata": {},
   "outputs": [
    {
     "ename": "NameError",
     "evalue": "name 'triangle' is not defined",
     "output_type": "error",
     "traceback": [
      "\u001b[1;31m---------------------------------------------------------------------------\u001b[0m",
      "\u001b[1;31mNameError\u001b[0m                                 Traceback (most recent call last)",
      "\u001b[1;32m<ipython-input-43-a16cba45b28a>\u001b[0m in \u001b[0;36m<module>\u001b[1;34m\u001b[0m\n\u001b[1;32m----> 1\u001b[1;33m \u001b[0mtriangle\u001b[0m \u001b[1;33m-\u001b[0m \u001b[0mcircle\u001b[0m \u001b[1;31m#можно вычитать фигуры как цифры\u001b[0m\u001b[1;33m\u001b[0m\u001b[1;33m\u001b[0m\u001b[0m\n\u001b[0m",
      "\u001b[1;31mNameError\u001b[0m: name 'triangle' is not defined"
     ]
    }
   ],
   "source": [
    "triangle - circle #можно вычитать фигуры как цифры"
   ]
  },
  {
   "cell_type": "code",
   "execution_count": 44,
   "metadata": {},
   "outputs": [
    {
     "data": {
      "image/png": "[encoded data removed]",
      "text/plain": [
       "<Figure size 1440x720 with 1 Axes>"
      ]
     },
     "metadata": {
      "needs_background": "light"
     },
     "output_type": "display_data"
    }
   ],
   "source": [
    "fig = plt.figure(figsize=(20, 10))\n",
    "ax = plt.gca()\n",
    "\n",
    "triangle = gs[1:2].values[0]#треугольник\n",
    "circle = gs[1:2].representative_point().buffer(0.2).values[0]#окружность вокруг точки внутри треугольника\n",
    "\n",
    "diff = gpd.GeoSeries([triangle - circle])#(треуг-круг) превращаем в геосериес\n",
    "diff.plot(ax=ax, color='#62b57f')\n",
    "diff.convex_hull.plot(ax=ax, alpha=0.1)#комплексное замыкание - ближайшая фигура к нашей, которая выпуклая (треугольник)\n",
    "\n",
    "for tick in ax.xaxis.get_major_ticks():\n",
    "    tick.label.set_fontsize(15) \n",
    "for tick in ax.yaxis.get_major_ticks():\n",
    "    tick.label.set_fontsize(15) \n",
    "\n",
    "#PS: отличие сериес от геосериес - в последнем необходимо наличие столбца, отвечающего за геометрию"
   ]
  },
  {
   "cell_type": "code",
   "execution_count": 45,
   "metadata": {},
   "outputs": [
    {
     "data": {
      "text/plain": [
       "0    False\n",
       "dtype: bool"
      ]
     },
     "execution_count": 45,
     "metadata": {},
     "output_type": "execute_result"
    }
   ],
   "source": [
    "diff.geom_almost_equals(triangle) # проверка то, что \"почти\" равенство фигур (т.к. могут быть плавающие точки)"
   ]
  },
  {
   "cell_type": "code",
   "execution_count": 46,
   "metadata": {},
   "outputs": [
    {
     "data": {
      "text/plain": [
       "0    True\n",
       "dtype: bool"
      ]
     },
     "execution_count": 46,
     "metadata": {},
     "output_type": "execute_result"
    }
   ],
   "source": [
    "diff.intersects(triangle) # проверка на пересечение 2-х фигур"
   ]
  },
  {
   "cell_type": "code",
   "execution_count": 47,
   "metadata": {},
   "outputs": [
    {
     "data": {
      "text/plain": [
       "0    False\n",
       "dtype: bool"
      ]
     },
     "execution_count": 47,
     "metadata": {},
     "output_type": "execute_result"
    }
   ],
   "source": [
    "diff.contains(triangle) # проверка на вхождение - входит ли треугольник в разность"
   ]
  },
  {
   "cell_type": "code",
   "execution_count": null,
   "metadata": {},
   "outputs": [],
   "source": [
    "gpd.GeoSeries([triangle]).contains(diff) # проверка на вхождение - входит ли разность в треугольник"
   ]
  },
  {
   "cell_type": "code",
   "execution_count": null,
   "metadata": {},
   "outputs": [],
   "source": [
    "diff.values[0]"
   ]
  },
  {
   "cell_type": "code",
   "execution_count": null,
   "metadata": {},
   "outputs": [],
   "source": [
    "shapely.affinity.rotate(diff.values[0], 50) #вращение фигуры на заданный угол\n",
    "# используем библ shapely (взаимод геопандас и шэйпли; как пандас и нумпай, матплотлиб)"
   ]
  },
  {
   "cell_type": "code",
   "execution_count": null,
   "metadata": {},
   "outputs": [],
   "source": [
    "shapely.affinity.scale(diff.values[0], xfact=10, yfact=5.0) # масштабирование фигуры по Ox и Oy"
   ]
  },
  {
   "cell_type": "code",
   "execution_count": null,
   "metadata": {},
   "outputs": [],
   "source": [
    "shapely.affinity.skew(diff.values[0], xs=30, ys=1) # наклоны фигуры"
   ]
  },
  {
   "cell_type": "code",
   "execution_count": null,
   "metadata": {},
   "outputs": [],
   "source": [
    "shapely.affinity.translate(diff.values[0], xoff=3.0, yoff=5.0, zoff=0.0)#сдвиг не виден(см. вниз)"
   ]
  },
  {
   "cell_type": "code",
   "execution_count": null,
   "metadata": {},
   "outputs": [],
   "source": [
    "gpd.GeoSeries([diff.values[0], # сдвиги по осям; видимы только если передаём объект геосериес (выше - передаём просто фигуру, сдвиг не виден)\n",
    "               shapely.affinity.translate(diff.values[0], xoff=1.0, yoff=3.0, zoff=0.0)]).plot()"
   ]
  },
  {
   "cell_type": "code",
   "execution_count": null,
   "metadata": {},
   "outputs": [],
   "source": [
    "# еще больше вариантов преобразований\n",
    "# https://shapely.readthedocs.io/en/stable/manual.html#affine-transformations"
   ]
  },
  {
   "cell_type": "code",
   "execution_count": null,
   "metadata": {},
   "outputs": [],
   "source": [
    "# считывание гео-данных (из интернета)\n",
    "\n",
    "moscow_from_link = gpd.read_file('http://polygons.openstreetmap.fr/get_geojson.py?id=2555133&params=0')#считываем\n",
    "moscow_from_link['geometry'] = moscow_from_link['geometry'].apply(lambda x: x[0])#берем первый элемент геометрии\n",
    "moscow_from_link.plot(edgecolor='black', figsize=(10, 10))#отрисовываем"
   ]
  },
  {
   "cell_type": "code",
   "execution_count": null,
   "metadata": {},
   "outputs": [],
   "source": [
    "# считываем из файла json\n",
    "moscow_from_json = gpd.read_file('./moscow.json')\n",
    "moscow_from_json['geometry'] = moscow_from_json['geometry'].apply(lambda x: x[0])\n",
    "\n",
    "# запись в geojson (из геодатафрейма в геоджейсон)\n",
    "# moscow_from_json.to_file(\"moscow_from_json.geojson\", driver='GeoJSON')"
   ]
  },
  {
   "cell_type": "code",
   "execution_count": null,
   "metadata": {},
   "outputs": [],
   "source": [
    "moscow_from_json.plot(edgecolor='black', figsize=(10, 10))#тип - геодатафрейм"
   ]
  },
  {
   "cell_type": "code",
   "execution_count": null,
   "metadata": {},
   "outputs": [],
   "source": [
    "moscow_from_json['name'] = 'Москва'\n",
    "moscow_from_json # обязательный атрибут GeoDataFrame - поле geometry\n",
    "moscow_from_json.geometry.name #столбец, отвечающий за название геометрии "
   ]
  },
  {
   "cell_type": "code",
   "execution_count": null,
   "metadata": {},
   "outputs": [],
   "source": [
    "type(moscow_from_json) # тип - GeoDataFrame"
   ]
  },
  {
   "cell_type": "code",
   "execution_count": null,
   "metadata": {},
   "outputs": [],
   "source": [
    "moscow_from_json.crs # проекция, их очень много и разных - https://en.wikipedia.org/wiki/Map_projection"
   ]
  },
  {
   "cell_type": "code",
   "execution_count": null,
   "metadata": {
    "scrolled": true
   },
   "outputs": [],
   "source": [
    "# преобразование проекций, перейдём к 3395 - проекции меркатора \n",
    "moscow_from_json.to_crs(epsg=3395).plot(edgecolor='black', figsize=(10, 10))"
   ]
  },
  {
   "cell_type": "code",
   "execution_count": null,
   "metadata": {
    "scrolled": true
   },
   "outputs": [],
   "source": [
    "coronavirus_cases = pd.read_csv('./data/coronavirus_cases.csv')#файл с прошлого занятия\n",
    "coronavirus_cases = coronavirus_cases.dropna()\n",
    "coronavirus_cases.head()"
   ]
  },
  {
   "cell_type": "code",
   "execution_count": null,
   "metadata": {},
   "outputs": [],
   "source": [
    "#превращение в геодатафрейм\n",
    "geometry = []\n",
    "for _, row in coronavirus_cases.iterrows():\n",
    "    geometry.append(Point(row.long, row.lat))#бежим и превращаем всё в поинт из шейпли\n",
    "    \n",
    "coronavirus_cases['geometry'] = geometry #создаём столбец геометрия\n",
    "coronavirus_cases = gpd.GeoDataFrame(coronavirus_cases) #датафрейм приводим к геодатафрейму"
   ]
  },
  {
   "cell_type": "code",
   "execution_count": null,
   "metadata": {
    "scrolled": true
   },
   "outputs": [],
   "source": [
    "coronavirus_cases.head() #появился стобец геометрия"
   ]
  },
  {
   "cell_type": "code",
   "execution_count": null,
   "metadata": {},
   "outputs": [],
   "source": [
    "ax = moscow_from_json.plot(edgecolor='black', figsize=(10, 10)) #нарисовали Москву (геодатфрейм)\n",
    "coronavirus_cases.plot(ax=ax, color='red') #сверху добавили точки (второй геодаатфрейм)"
   ]
  },
  {
   "cell_type": "code",
   "execution_count": null,
   "metadata": {},
   "outputs": [],
   "source": [
    "import seaborn as sns\n",
    "\n",
    "#Соты\n",
    "f, ax = plt.subplots(1, figsize=(20, 5))\n",
    "moscow_from_link.plot(ax=ax, facecolor='white', edgecolor='black')\n",
    "hb = ax.hexbin(coronavirus_cases['geometry'].x, coronavirus_cases['geometry'].y, \n",
    "               gridsize=20, mincnt=1, edgecolor='white', cmap='tab10')\n",
    "ax.set_axis_off()\n",
    "plt.colorbar(hb)\n",
    "plt.axis('equal')\n",
    "plt.show()\n",
    "\n",
    "#Гаусовская апроксимация точек\n",
    "f, ax = plt.subplots(1, figsize=(15, 5))\n",
    "moscow_from_link.plot(ax=ax, facecolor='white', edgecolor='black')\n",
    "sns.kdeplot(coronavirus_cases['geometry'].x, coronavirus_cases['geometry'].y, n_levels=30, cmap='mako')\n",
    "coronavirus_cases.plot(ax=ax, color='red')\n",
    "ax.set_axis_off()\n",
    "plt.axis('equal')\n",
    "plt.show()"
   ]
  },
  {
   "cell_type": "code",
   "execution_count": null,
   "metadata": {},
   "outputs": [],
   "source": [
    "# чтение из shape файла\n",
    "big_moscow = gpd.read_file('./data/big_moscow.shp')#шейп-файл\n",
    "big_moscow_districts = gpd.read_file('./data/big_moscow_districts.shp')#Москва с разделением на районы\n",
    "\n",
    "# запись в shape файл (из геодатафрейма)\n",
    "# big_moscow.to_file(driver='ESRI Shapefile', filename=\"./data/big_moscow.shp\")#драйвер и куда записывать\n",
    "\n",
    "ax = big_moscow_districts.plot(figsize=(20, 10), edgecolor='white')\n",
    "ax.set_axis_off()"
   ]
  },
  {
   "cell_type": "code",
   "execution_count": null,
   "metadata": {},
   "outputs": [],
   "source": [
    "big_moscow_districts #id and dataframe of polygons (geometry)"
   ]
  },
  {
   "cell_type": "code",
   "execution_count": null,
   "metadata": {},
   "outputs": [],
   "source": [
    "big_moscow_districts.geometry.iloc[0] #кусочек полигона"
   ]
  },
  {
   "cell_type": "code",
   "execution_count": null,
   "metadata": {},
   "outputs": [],
   "source": [
    "coronavirus_cases #геодатафрейм"
   ]
  },
  {
   "cell_type": "code",
   "execution_count": null,
   "metadata": {},
   "outputs": [],
   "source": [
    "coronavirus_cases.geometry.iloc[0] #точка\n",
    "coronavirus_cases.geometry.iloc[0].within(big_moscow_districts.geometry.iloc[0])#проверить, входит ли данная точка в указанный кусочек полигона (рисовали его выше)"
   ]
  },
  {
   "cell_type": "code",
   "execution_count": null,
   "metadata": {},
   "outputs": [],
   "source": [
    "big_moscow_districts.iloc[50:100].plot(figsize=(20, 10), edgecolor='white')#отобразить геодатафрейм частями (сохр индексация из пандаса)"
   ]
  },
  {
   "cell_type": "code",
   "execution_count": null,
   "metadata": {},
   "outputs": [],
   "source": [
    "big_moscow_districts #запускать после ниже -- появился столбец coronavirus cases"
   ]
  },
  {
   "cell_type": "code",
   "execution_count": null,
   "metadata": {
    "scrolled": false
   },
   "outputs": [],
   "source": [
    "big_moscow_districts['coronavirus_cases'] = big_moscow_districts['geometry']\\ #бежим по точкам и спрашиваем входит ли она в район\n",
    "                    .apply(lambda x: sum([point.within(x) for point in coronavirus_cases.geometry])) # within\n",
    "\n",
    "# отрисовываем\n",
    "ax = big_moscow_districts.plot(column='coronavirus_cases', figsize=(20, 10), cmap='viridis', #столбец, размер, раскраска\n",
    "                               edgecolor='white', legend=True) #цвет границ, легенда\n",
    "ax.set_axis_off()\n",
    "\n",
    "ax = big_moscow_districts.plot(column='coronavirus_cases', figsize=(20, 10), cmap='viridis',\n",
    "                               scheme='quantiles', #неявное обращение к пайсал, здесь бьёт карту на кусочки, чтобы в итоге она была равномерно одного цвета\n",
    "                               #если написать equal_interval - по величине\n",
    "                               edgecolor='white', legend=True) # pySAL - библиотека про геостатистику, оченб классная!\n",
    "ax.set_axis_off()"
   ]
  },
  {
   "cell_type": "code",
   "execution_count": null,
   "metadata": {
    "scrolled": true
   },
   "outputs": [],
   "source": [
    "buffer_cases = gpd.GeoDataFrame(coronavirus_cases.geometry.buffer(0.01), columns=['geometry'])#buffer для коронавирусных точек !!это не в метрах, не в градусах, просто в геометрии\n",
    "buffer_cases.plot()"
   ]
  },
  {
   "cell_type": "code",
   "execution_count": null,
   "metadata": {},
   "outputs": [],
   "source": [
    "overlay = gpd.overlay(buffer_cases, big_moscow_districts) # наложение (пересечение) Москвы с районами и коронавирусных точек"
   ]
  },
  {
   "cell_type": "code",
   "execution_count": null,
   "metadata": {},
   "outputs": [],
   "source": [
    "#рисуем\n",
    "ax = overlay.plot(column='coronavirus_cases', figsize=(20, 10), cmap='viridis',\n",
    "                               edgecolor='white', legend=True)\n",
    "ax.set_axis_off() "
   ]
  },
  {
   "cell_type": "code",
   "execution_count": null,
   "metadata": {},
   "outputs": [],
   "source": [
    "#хотим получить пересечение Москвы без районов (с фолиума) с большой Москвой с районами\n",
    "small_moscow_districts = gpd.overlay(moscow_from_json, big_moscow_districts) # overlay\n",
    "ax = small_moscow_districts.plot(column='coronavirus_cases', figsize=(20, 10), cmap='viridis',\n",
    "                               scheme='equal_interval', #разбиваем карту по равным интервалам\n",
    "                               edgecolor='white', legend=True)\n",
    "coronavirus_cases.plot(ax=ax, color='red', markersize=10) #сверху нарисовали ещё коронавирусные случаи\n",
    "ax.set_axis_off()"
   ]
  },
  {
   "cell_type": "code",
   "execution_count": null,
   "metadata": {},
   "outputs": [],
   "source": [
    "moscow_from_json #был один большой мультиполигон"
   ]
  },
  {
   "cell_type": "code",
   "execution_count": null,
   "metadata": {},
   "outputs": [],
   "source": [
    "small_moscow_districts #стало много районов"
   ]
  },
  {
   "cell_type": "code",
   "execution_count": null,
   "metadata": {},
   "outputs": [],
   "source": [
    "# пространственный join - по геометрии (пространству)\n",
    "small_moscow_districts['name'] = 'Москва'\n",
    "spatial_join = gpd.sjoin(big_moscow_districts, small_moscow_districts, op='within', how='left') #больш М с маленькой, \n",
    "#op - если есть хотя бы небольшое совпадение точек, полигоны друг к другу присоединятся, within - внутренний (м М в б М)\n",
    "#how=left - присоед всё к большой Москве\n",
    "spatial_join.name = spatial_join.name.fillna('Новая Москва') # наны заполняем строчкой"
   ]
  },
  {
   "cell_type": "code",
   "execution_count": null,
   "metadata": {},
   "outputs": [],
   "source": [
    "spatial_join\n",
    "#пространственный join в дз, где найти что-то в округах!!!!!"
   ]
  },
  {
   "cell_type": "code",
   "execution_count": null,
   "metadata": {},
   "outputs": [],
   "source": [
    "spatial_join.dissolve(by='name', aggfunc='sum') # протсранственная агрегация; считаем сколько случаев в НМ и М\n",
    "#указываем по чему аггрегируем и какую функцию применяем"
   ]
  }
 ],
 "metadata": {
  "kernelspec": {
   "display_name": "Python 3",
   "language": "python",
   "name": "python3"
  },
  "language_info": {
   "codemirror_mode": {
    "name": "ipython",
    "version": 3
   },
   "file_extension": ".py",
   "mimetype": "text/x-python",
   "name": "python",
   "nbconvert_exporter": "python",
   "pygments_lexer": "ipython3",
   "version": "3.7.4"
  }
 },
 "nbformat": 4,
 "nbformat_minor": 2
}
