{
 "cells": [
  {
   "cell_type": "code",
   "execution_count": 226,
   "metadata": {},
   "outputs": [],
   "source": [
    "import numpy as np"
   ]
  },
  {
   "cell_type": "code",
   "execution_count": 227,
   "metadata": {},
   "outputs": [
    {
     "name": "stdout",
     "output_type": "stream",
     "text": [
      "Numpy is 60.04997813550815 times faster!\n"
     ]
    }
   ],
   "source": [
    "#Task1.1\n",
    "\n",
    "import time\n",
    "size_of_vec = 10000000\n",
    "\n",
    "def python():\n",
    "    start = time.time()\n",
    "    X = range(size_of_vec)\n",
    "    Y = range(size_of_vec)\n",
    "    Z = [2*X[i]**2 + 4*Y[i] for i in range(len(X))]\n",
    "    return time.time() - start\n",
    "\n",
    "def numpy():\n",
    "    start = time.time()\n",
    "    X = np.arange(size_of_vec)\n",
    "    Y = np.arange(size_of_vec)\n",
    "    Z = 2*X**2 + 4*Y\n",
    "    return time.time() - start\n",
    "\n",
    "print(\"Numpy is {} times faster!\".format(python()/numpy()))"
   ]
  },
  {
   "cell_type": "markdown",
   "metadata": {},
   "source": [
    "Результаты измерений для функции z = 2*x** 2 + 4*y:\n",
    "\n",
    "Numpy is 58.36340254877714 times faster!\n",
    "\n",
    "Numpy is 60.76030890058083 times faster!\n",
    "\n",
    "Numpy is 61.75725698268953 times faster!\n",
    "\n",
    "Numpy is 58.182957538879364 times faster!\n",
    "\n",
    "Numpy is 59.09626096427876 times faster!\n",
    "\n",
    "#### В среднем numpy в 59,6320373870411248‬ раз быстрее"
   ]
  },
  {
   "cell_type": "code",
   "execution_count": 228,
   "metadata": {},
   "outputs": [
    {
     "name": "stdout",
     "output_type": "stream",
     "text": [
      "Numpy is 201.9722181707865 times faster!\n"
     ]
    }
   ],
   "source": [
    "#Task1.2\n",
    "\n",
    "import time\n",
    "n = 1000\n",
    "\n",
    "def m_mult(a, b, n): #вспомогательная функция для перемножения двух матриц\n",
    "    s = 0 \n",
    "    tmp = []\n",
    "    ans = []\n",
    "    for z in range(0, n):\n",
    "        for j in range(0, n):\n",
    "            for i in range(0, n):\n",
    "                s = s + a[z][i] * b[i][j]\n",
    "            tmp.append(s)\n",
    "            s=0\n",
    "        ans.append(tmp)\n",
    "        tmp=[]           \n",
    "    return ans\n",
    "\n",
    "\n",
    "def python():\n",
    "    start = time.time()\n",
    "    X = range(size_of_vec)\n",
    "    Y = range(size_of_vec)\n",
    "    Z = [2*X[i]**2 + 4*Y[i] for i in range(len(X))]\n",
    "    return time.time() - start\n",
    "\n",
    "def numpy():\n",
    "    start = time.time()\n",
    "    X = np.random.random((n, n))\n",
    "    Y = np.random.random((n, n))\n",
    "    Z = X @ X\n",
    "    return time.time() - start\n",
    "\n",
    "print(\"Numpy is {} times faster!\".format(python()/numpy()))"
   ]
  },
  {
   "cell_type": "markdown",
   "metadata": {},
   "source": [
    "Резульаты измерений для перемножения двух матриц:\n",
    "\n",
    "Numpy is 162.7192767499256 times faster!\n",
    "\n",
    "Numpy is 196.3484281027884 times faster!\n",
    "\n",
    "Numpy is 189.02572759718464 times faster!\n",
    "\n",
    "Numpy is 197.8073459067924 times faster!\n",
    "\n",
    "Numpy is 191.12784879349238 times faster!\n",
    "\n",
    "#### В среднем numpy в 187,405725430036684‬‬ раз быстрее"
   ]
  },
  {
   "cell_type": "code",
   "execution_count": 229,
   "metadata": {},
   "outputs": [
    {
     "name": "stdout",
     "output_type": "stream",
     "text": [
      "начальный массив: [40  8 35  9 25 67 46 69 33 28]\n",
      "нечётные числа: [35  9 25 67 69 33]\n",
      "заменим нечётные на -1: [40  8 -1 -1 -1 -1 46 -1 -1 28]\n"
     ]
    }
   ],
   "source": [
    "#Task2\n",
    "\n",
    "a = np.random.randint(2, 75, size=10)\n",
    "print(\"начальный массив:\", a)\n",
    "print(\"нечётные числа:\", a[a % 2 != 0])\n",
    "print(\"заменим нечётные на -1:\", np.where(a % 2 != 0, -1, a))"
   ]
  },
  {
   "cell_type": "code",
   "execution_count": 230,
   "metadata": {},
   "outputs": [
    {
     "name": "stdout",
     "output_type": "stream",
     "text": [
      "для a и b: [ 1  3  5  7  9 10]\n",
      "для A и B: [10 20 40 50 60 70 80]\n"
     ]
    }
   ],
   "source": [
    "#Task3\n",
    "\n",
    "a = np.array([1, 2, 3, 4, 5, 6, 7, 8, 9, 10])\n",
    "b = np.array([2, 4, 6, 8, 545])\n",
    "print(\"для a и b:\", np.setdiff1d(a,b))\n",
    "\n",
    "A = np.array([10, 20, 30, 40, 50, 60, 70, 80, 90])\n",
    "B = np.array([1, 2, 30, 90])\n",
    "print(\"для A и B:\", np.setdiff1d(A, B))"
   ]
  },
  {
   "cell_type": "code",
   "execution_count": 231,
   "metadata": {},
   "outputs": [
    {
     "name": "stdout",
     "output_type": "stream",
     "text": [
      "размер матрицы: 46\n",
      "[[0.00549913 0.2372654  0.10616595 ... 0.28937674 0.76025058 0.03162209]\n",
      " [0.98077784 0.00633145 0.44577774 ... 0.59952475 0.47784173 0.7381363 ]\n",
      " [0.38838202 0.73635001 0.54606031 ... 0.62944395 0.87440648 0.82273554]\n",
      " ...\n",
      " [0.30754906 0.0633387  0.08115929 ... 0.9209117  0.33617914 0.48901356]\n",
      " [0.65328946 0.06899451 0.78910111 ... 0.22709229 0.66398227 0.49959935]\n",
      " [0.57954587 0.23585365 0.6290891  ... 0.66648433 0.63177133 0.06565255]]\n",
      "максимальный элемент: 0.9997440388256145\n",
      "сумма элементов: 1066.8592510296326\n",
      "[[0.00550054 0.23732614 0.10619314 ... 0.28945082 0.76044523 0.03163019]\n",
      " [0.98102895 0.00633307 0.44589187 ... 0.59967825 0.47796407 0.73832529]\n",
      " [0.38848145 0.73653853 0.54620011 ... 0.6296051  0.87463035 0.82294619]\n",
      " ...\n",
      " [0.3076278  0.06335492 0.08118007 ... 0.92114748 0.33626521 0.48913876]\n",
      " [0.65345672 0.06901217 0.78930314 ... 0.22715043 0.66415227 0.49972726]\n",
      " [0.57969425 0.23591403 0.62925016 ... 0.66665496 0.63193308 0.06566936]]\n",
      "вычли среднее значение по строкам:\n",
      "[[-0.5226163  -0.29085004 -0.42194948 ... -0.2387387   0.23213515\n",
      "  -0.49649334]\n",
      " [ 0.47741428 -0.49703211 -0.05758582 ...  0.09616119 -0.02552183\n",
      "   0.23477274]\n",
      " [-0.14216351  0.20580448  0.01551478 ...  0.09889842  0.34386095\n",
      "   0.29219002]\n",
      " ...\n",
      " [-0.22207202 -0.46628238 -0.44846179 ...  0.39129062 -0.19344194\n",
      "  -0.04060752]\n",
      " [ 0.15463279 -0.42966216  0.29044444 ... -0.27156438  0.1653256\n",
      "   0.00094269]\n",
      " [ 0.09061643 -0.2530758   0.14015966 ...  0.17755488  0.14284189\n",
      "  -0.42327689]]\n",
      "заменим максимум на -1:\n",
      "[[0.00549913 0.2372654  0.10616595 ... 0.28937674 0.76025058 0.03162209]\n",
      " [0.98077784 0.00633145 0.44577774 ... 0.59952475 0.47784173 0.7381363 ]\n",
      " [0.38838202 0.73635001 0.54606031 ... 0.62944395 0.87440648 0.82273554]\n",
      " ...\n",
      " [0.30754906 0.0633387  0.08115929 ... 0.9209117  0.33617914 0.48901356]\n",
      " [0.65328946 0.06899451 0.78910111 ... 0.22709229 0.66398227 0.49959935]\n",
      " [0.57954587 0.23585365 0.6290891  ... 0.66648433 0.63177133 0.06565255]]\n"
     ]
    }
   ],
   "source": [
    "#Task4\n",
    "import random\n",
    "\n",
    "s = random.randint(10, 101) \n",
    "print(\"размер матрицы:\", s)\n",
    "a = np.random.random((s, s)) #создаём матрицу\n",
    "print(a)\n",
    "\n",
    "print(\"максимальный элемент:\", np.max(a))\n",
    "print(\"сумма элементов:\", np.sum(a))\n",
    "\n",
    "print(a/np.max(a)) #делим все элементы матрицы на максимальный элемент\n",
    "\n",
    "\n",
    "print(\"вычли среднее значение по строкам:\")\n",
    "print(a - a.mean(axis=1, keepdims=True))\n",
    "\n",
    "print(\"заменим максимум на -1:\")\n",
    "print(np.where(a == np.max(a), -1, a))"
   ]
  },
  {
   "cell_type": "code",
   "execution_count": 232,
   "metadata": {},
   "outputs": [
    {
     "name": "stdout",
     "output_type": "stream",
     "text": [
      "до: [nan  5. nan 12.]\n",
      "после: [ 8.5  5.   8.5 12. ]\n",
      "до: [nan nan nan]\n",
      "после: [0. 0. 0.]\n"
     ]
    },
    {
     "name": "stderr",
     "output_type": "stream",
     "text": [
      "C:\\Users\\Admin\\Anaconda3\\lib\\site-packages\\ipykernel_launcher.py:4: RuntimeWarning: Mean of empty slice\n",
      "  after removing the cwd from sys.path.\n"
     ]
    }
   ],
   "source": [
    "#Task5\n",
    "\n",
    "def nan_to_mean(a):\n",
    "    m = np.nanmean(a)\n",
    "    if (np.isnan(m) == 1):\n",
    "        return np.zeros(shape=a.shape)\n",
    "    return np.where(np.isnan(a) == 1, m, a)\n",
    "\n",
    "a = np.array([np.nan, 5, np.nan, 12])\n",
    "print(\"до:\", a)\n",
    "print(\"после:\", nan_to_mean(a)) \n",
    "\n",
    "b = np.array([np.nan, np.nan, np.nan])\n",
    "print(\"до:\", b)\n",
    "print(\"после:\", nan_to_mean(b))    "
   ]
  },
  {
   "cell_type": "code",
   "execution_count": 233,
   "metadata": {},
   "outputs": [
    {
     "name": "stdout",
     "output_type": "stream",
     "text": [
      "исходный: [ 0  2 10]\n",
      "нормализованный: [0.  0.2 1. ]\n"
     ]
    }
   ],
   "source": [
    "#Task6\n",
    "\n",
    "def normalizing(a):\n",
    "    return (a - np.min(a)) / (np.max(a) - np.min(a))\n",
    "\n",
    "a = np.array([0, 2, 10])\n",
    "print(\"исходный:\", a)\n",
    "print(\"нормализованный:\", normalizing(a))"
   ]
  },
  {
   "cell_type": "code",
   "execution_count": 234,
   "metadata": {},
   "outputs": [
    {
     "name": "stdout",
     "output_type": "stream",
     "text": [
      "исходный: [38 51 31 11 26 24 21 66]\n",
      "исходный записанный и считанный: [38. 51. 31. 11. 26. 24. 21. 66.]\n"
     ]
    }
   ],
   "source": [
    "#Task7\n",
    "\n",
    "a = np.random.randint(1, 100, size=8)\n",
    "print(\"исходный:\", a)\n",
    "np.savetxt('file.txt', a)\n",
    "b = np.loadtxt('file.txt')\n",
    "print(\"исходный записанный и считанный:\", b)"
   ]
  },
  {
   "cell_type": "code",
   "execution_count": 235,
   "metadata": {},
   "outputs": [
    {
     "name": "stdout",
     "output_type": "stream",
     "text": [
      "массив: [11 26 86 47 30 16 25 14 94 86]\n",
      "значение: 62\n",
      "ближайшее к этому значению: 47\n"
     ]
    }
   ],
   "source": [
    "#Task8\n",
    "\n",
    "a = np.random.randint(1, 101, size=10)\n",
    "v = random.randint(1, 101)\n",
    "print(\"массив:\", a)\n",
    "print(\"значение:\", v)  \n",
    "print(\"ближайшее к этому значению:\", a[(np.abs(a - v)).argmin()])"
   ]
  },
  {
   "cell_type": "code",
   "execution_count": 236,
   "metadata": {},
   "outputs": [
    {
     "name": "stdout",
     "output_type": "stream",
     "text": [
      "[[0 0 0 0 0 0 0 0]\n",
      " [0 1 1 1 1 1 1 0]\n",
      " [0 1 1 1 1 1 1 0]\n",
      " [0 1 1 1 1 1 1 0]\n",
      " [0 0 0 0 0 0 0 0]]\n"
     ]
    }
   ],
   "source": [
    "#Task9\n",
    "\n",
    "def m_frame(n, m, inside, frame):\n",
    "    a = np.full((n, m), inside)\n",
    "    i = np.array([0, n-1])\n",
    "    j = np.array([0, m-1])\n",
    "    a[i, :] = a[:, j] = frame\n",
    "    return a\n",
    "\n",
    "print(m_frame(5, 8, 1, 0))"
   ]
  },
  {
   "cell_type": "code",
   "execution_count": 237,
   "metadata": {},
   "outputs": [
    {
     "name": "stdout",
     "output_type": "stream",
     "text": [
      "исходный\n",
      " [[ 1  2  9]\n",
      " [ 2  1 -1]\n",
      " [ 6  0  3]]\n",
      "сорт. по 2 столбцу\n",
      " [[ 6  0  3]\n",
      " [ 2  1 -1]\n",
      " [ 1  2  9]]\n",
      "сорт. по 3 столбцу\n",
      " [[ 2  1 -1]\n",
      " [ 6  0  3]\n",
      " [ 1  2  9]]\n"
     ]
    }
   ],
   "source": [
    "#Task10\n",
    "\n",
    "def colomn_sort (a, col):\n",
    "    return a[np.argsort(a[:, col-1])]\n",
    "\n",
    "a = np.array([[1, 2, 9], [2, 1, -1], [6, 0, 3]])\n",
    "print(\"исходный\\n\", a)\n",
    "print(\"сорт. по 2 столбцу\\n\", colomn_sort(a, 2))\n",
    "print(\"сорт. по 3 столбцу\\n\", colomn_sort(a, 3))"
   ]
  },
  {
   "cell_type": "code",
   "execution_count": 238,
   "metadata": {},
   "outputs": [
    {
     "name": "stdout",
     "output_type": "stream",
     "text": [
      "[[0. 1. 0. 1. 0.]\n",
      " [1. 0. 1. 0. 1.]\n",
      " [0. 1. 0. 1. 0.]\n",
      " [1. 0. 1. 0. 1.]\n",
      " [0. 1. 0. 1. 0.]]\n"
     ]
    }
   ],
   "source": [
    "#Task11\n",
    "\n",
    "def chessboard(n):\n",
    "    a = np.zeros((n, n))\n",
    "    a[1::2,::2] = 1\n",
    "    a[::2,1::2] = 1\n",
    "    return a\n",
    "\n",
    "print(chessboard(5))"
   ]
  },
  {
   "cell_type": "code",
   "execution_count": 269,
   "metadata": {},
   "outputs": [
    {
     "name": "stdout",
     "output_type": "stream",
     "text": [
      "[[0 0 0 0 0]\n",
      " [0 0 1 0 0]\n",
      " [0 0 1 0 0]\n",
      " [0 0 1 0 0]\n",
      " [0 0 0 0 0]]\n",
      "[[0 1 1 1 0]\n",
      " [0 2 1 2 0]\n",
      " [0 3 2 3 0]\n",
      " [0 2 1 2 0]\n",
      " [0 1 1 1 0]]\n",
      "[[0 0 0 0 0]\n",
      " [0 0 0 0 0]\n",
      " [0 1 1 1 0]\n",
      " [0 0 0 0 0]\n",
      " [0 0 0 0 0]]\n",
      "[[0 1 1 1 0]\n",
      " [0 2 1 2 0]\n",
      " [0 3 2 3 0]\n",
      " [0 2 1 2 0]\n",
      " [0 1 1 1 0]]\n",
      "[[0 0 0 0 0]\n",
      " [0 0 0 0 0]\n",
      " [0 1 1 1 0]\n",
      " [0 0 0 0 0]\n",
      " [0 0 0 0 0]]\n",
      "[[0 1 1 1 0]\n",
      " [0 2 1 2 0]\n",
      " [0 3 2 3 0]\n",
      " [0 2 1 2 0]\n",
      " [0 1 1 1 0]]\n",
      "[[0 0 0 0 0]\n",
      " [0 0 0 0 0]\n",
      " [0 1 1 1 0]\n",
      " [0 0 0 0 0]\n",
      " [0 0 0 0 0]]\n"
     ]
    }
   ],
   "source": [
    "#Task12\n",
    "\n",
    "def next_stage(a):\n",
    "    n = np.zeros(a.shape, dtype=int)\n",
    "    n[1:, 1:] += a[:-1, :-1]\n",
    "    n[1:, :-1] += a[:-1, 1:]\n",
    "    n[:-1, 1:] += a[1:, :-1]\n",
    "    n[:-1, :-1] += a[1:, 1:]\n",
    "    n[:-1, :] += a[1:, :]\n",
    "    n[1:, :] += a[:-1, :]\n",
    "    n[:, :-1] += a[:, 1:]\n",
    "    n[:, 1:] += a[:, :-1]\n",
    "    tmp1 = ((a == 1) & (n < 4) & (n > 1))\n",
    "    tmp2 = ((a == 0) & (n == 3))\n",
    "    print(n)\n",
    "    a = (tmp1 | tmp2).astype(int)\n",
    "    return a\n",
    "\n",
    "a = np.array([[0, 0, 0, 0, 0],\n",
    "              [0, 0, 1, 0, 0],\n",
    "              [0, 0, 1, 0, 0],\n",
    "              [0, 0, 1, 0, 0],\n",
    "              [0, 0, 0, 0, 0]])\n",
    "\n",
    "print(a)\n",
    "for i in range(3): \n",
    "    print(next_stage(a))"
   ]
  }
 ],
 "metadata": {
  "kernelspec": {
   "display_name": "Python 3",
   "language": "python",
   "name": "python3"
  },
  "language_info": {
   "codemirror_mode": {
    "name": "ipython",
    "version": 3
   },
   "file_extension": ".py",
   "mimetype": "text/x-python",
   "name": "python",
   "nbconvert_exporter": "python",
   "pygments_lexer": "ipython3",
   "version": "3.7.4"
  }
 },
 "nbformat": 4,
 "nbformat_minor": 2
}
